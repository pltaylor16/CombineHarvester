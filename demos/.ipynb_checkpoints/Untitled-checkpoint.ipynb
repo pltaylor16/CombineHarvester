{
 "cells": [
  {
   "cell_type": "code",
   "execution_count": 3,
   "id": "a1da8964-98a2-4d3f-aca4-72918d2ee835",
   "metadata": {},
   "outputs": [],
   "source": [
    "from CombineHarvester import Harvest\n",
    "import numpy as np\n",
    "from matplotlib import pyplot as plt\n"
   ]
  },
  {
   "cell_type": "code",
   "execution_count": 5,
   "id": "f331558d-16aa-49c4-85a6-ae8685d9dc6e",
   "metadata": {},
   "outputs": [],
   "source": [
    "data = np.genfromtxt('../demos_data/chain_3x2pt_lcdm_SR_maglim.txt',names=True)"
   ]
  },
  {
   "cell_type": "code",
   "execution_count": 11,
   "id": "709ca1fc-89c4-4c08-ad9d-494cdd4b4d47",
   "metadata": {},
   "outputs": [],
   "source": [
    "cosmo_chain = np.zeros((data.shape[0],4))\n",
    "weights = data['weight']\n",
    "cosmo_chains[:,0] = data['cosmological_parametersomega_m'] \n",
    "cosmo_chains[:,1] = data['cosmological_parametersa_s'] \n",
    "cosmo_chains[:,2] = data['cosmological_parametersh0']\n",
    "cosmo_chains[:,3] = data['cosmological_parametersomega_b'] "
   ]
  },
  {
   "cell_type": "code",
   "execution_count": 12,
   "id": "e030deae-239d-489f-b1e1-1a79e5e8d0fd",
   "metadata": {},
   "outputs": [],
   "source": [
    "DESY3Harvest = Harvest(cosmo_chain)"
   ]
  },
  {
   "cell_type": "code",
   "execution_count": null,
   "id": "082f0c62-f190-479a-a7ff-f309749941bd",
   "metadata": {},
   "outputs": [],
   "source": [
    "DESY3Harvest = "
   ]
  }
 ],
 "metadata": {
  "kernelspec": {
   "display_name": "Python 3 (ipykernel)",
   "language": "python",
   "name": "python3"
  },
  "language_info": {
   "codemirror_mode": {
    "name": "ipython",
    "version": 3
   },
   "file_extension": ".py",
   "mimetype": "text/x-python",
   "name": "python",
   "nbconvert_exporter": "python",
   "pygments_lexer": "ipython3",
   "version": "3.12.2"
  }
 },
 "nbformat": 4,
 "nbformat_minor": 5
}
