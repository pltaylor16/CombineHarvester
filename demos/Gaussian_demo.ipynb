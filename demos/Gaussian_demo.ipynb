{
 "cells": [
  {
   "cell_type": "markdown",
   "id": "44db0aba-ff36-4f9b-84f3-74a2631838e7",
   "metadata": {},
   "source": [
    "# Draw two chains from 2D unit normal multivariate Gaussian chains called barley and wheat"
   ]
  },
  {
   "cell_type": "code",
   "execution_count": 22,
   "id": "1265e276-44b4-432e-9005-eae2dcef5126",
   "metadata": {},
   "outputs": [],
   "source": [
    "import numpy as np\n",
    "import matplotlib.pyplot as plt\n",
    "\n",
    "\n",
    "num_samples = 20000\n",
    "mean = np.zeros(2)\n",
    "cov = np.eye(2)\n",
    "\n",
    "\n",
    "wheat_chain = np.random.multivariate_normal(mean, cov, num_samples)\n",
    "barley_chain = np.random.multivariate_normal(mean, cov, num_samples)"
   ]
  },
  {
   "cell_type": "markdown",
   "id": "9b876a2f-645b-497a-901c-26f913948e2a",
   "metadata": {},
   "source": [
    "# 'Harvest' the two chains"
   ]
  },
  {
   "cell_type": "code",
   "execution_count": 23,
   "id": "8428effb-42b4-41f2-b18b-55e6cfecf4a1",
   "metadata": {},
   "outputs": [],
   "source": [
    "from CombineHarvester import Harvest\n"
   ]
  },
  {
   "cell_type": "code",
   "execution_count": 24,
   "id": "4ae924cb-f080-48b0-acfb-b24734da016c",
   "metadata": {},
   "outputs": [],
   "source": [
    "#initiate the the class\n",
    "Wheat = Harvest('output/Wheat', chain = wheat_chain, n_flows = 50) \n",
    "Barley = Harvest('output/Barley', chain = barley_chain, n_flows = 50)\n"
   ]
  },
  {
   "cell_type": "code",
   "execution_count": 25,
   "id": "57766e1c-53f3-4b46-8c82-184de0b2aa80",
   "metadata": {},
   "outputs": [
    {
     "name": "stdout",
     "output_type": "stream",
     "text": [
      "Training the flows\n"
     ]
    },
    {
     "name": "stderr",
     "output_type": "stream",
     "text": [
      " 16%|██████▌                                  | 16/100 [00:14<01:13,  1.14it/s, train=2.8469534, val=2.8615253 (Max patience reached)]\n",
      " 15%|██████▍                                    | 15/100 [00:13<01:14,  1.13it/s, train=2.8544226, val=2.79734 (Max patience reached)]\n",
      "  9%|███▊                                      | 9/100 [00:09<01:33,  1.03s/it, train=2.8507826, val=2.8530397 (Max patience reached)]\n",
      " 11%|████▌                                     | 11/100 [00:10<01:26,  1.03it/s, train=2.8462262, val=2.887545 (Max patience reached)]\n",
      "  7%|██▉                                       | 7/100 [00:07<01:42,  1.10s/it, train=2.8540916, val=2.8349276 (Max patience reached)]\n",
      " 20%|████████▌                                  | 20/100 [00:16<01:05,  1.21it/s, train=2.8488274, val=2.84792 (Max patience reached)]\n",
      " 10%|████                                     | 10/100 [00:10<01:32,  1.03s/it, train=2.8536298, val=2.8340702 (Max patience reached)]\n",
      " 15%|██████▎                                   | 15/100 [00:13<01:15,  1.13it/s, train=2.8450584, val=2.895924 (Max patience reached)]\n",
      " 15%|██████▎                                   | 15/100 [00:12<01:13,  1.15it/s, train=2.8504558, val=2.849708 (Max patience reached)]\n",
      " 15%|██████▏                                  | 15/100 [00:13<01:13,  1.15it/s, train=2.8443189, val=2.8800132 (Max patience reached)]\n"
     ]
    },
    {
     "name": "stdout",
     "output_type": "stream",
     "text": [
      "Training the flows\n"
     ]
    },
    {
     "name": "stderr",
     "output_type": "stream",
     "text": [
      "  6%|██▌                                        | 6/100 [00:07<01:56,  1.24s/it, train=2.8474026, val=2.890681 (Max patience reached)]\n",
      " 20%|████████▏                                | 20/100 [00:16<01:05,  1.23it/s, train=2.8498144, val=2.8349948 (Max patience reached)]\n",
      " 15%|██████▎                                   | 15/100 [00:13<01:13,  1.15it/s, train=2.8519993, val=2.853001 (Max patience reached)]\n",
      " 11%|████▌                                    | 11/100 [00:10<01:23,  1.06it/s, train=2.8514676, val=2.8616986 (Max patience reached)]\n",
      " 11%|████▌                                    | 11/100 [00:10<01:28,  1.01it/s, train=2.8494704, val=2.8690057 (Max patience reached)]\n",
      "  8%|███▎                                      | 8/100 [00:08<01:36,  1.05s/it, train=2.8499796, val=2.8883386 (Max patience reached)]\n",
      " 10%|████▏                                     | 10/100 [00:09<01:27,  1.03it/s, train=2.852588, val=2.8687232 (Max patience reached)]\n",
      " 12%|████▉                                    | 12/100 [00:11<01:21,  1.08it/s, train=2.8538191, val=2.8366537 (Max patience reached)]\n",
      " 10%|████                                     | 10/100 [00:09<01:27,  1.03it/s, train=2.8490093, val=2.8905842 (Max patience reached)]\n",
      " 16%|██████▌                                  | 16/100 [00:14<01:14,  1.13it/s, train=2.8484561, val=2.8958838 (Max patience reached)]\n"
     ]
    }
   ],
   "source": [
    "#train the flows\n",
    "Wheat.harvest()\n",
    "Barley.harvest()"
   ]
  },
  {
   "cell_type": "markdown",
   "id": "987013bc-e170-4564-91db-e325840c0152",
   "metadata": {},
   "source": [
    "# 'Combine' the two chains"
   ]
  },
  {
   "cell_type": "code",
   "execution_count": 26,
   "id": "dec6b857-fe80-4246-b281-d6da2044799e",
   "metadata": {},
   "outputs": [],
   "source": [
    "from CombineHarvester import Combine\n",
    "Grain = Combine(Wheat, Barley)"
   ]
  },
  {
   "cell_type": "code",
   "execution_count": 27,
   "id": "9730d343-f595-4174-b5db-8d064985a49a",
   "metadata": {},
   "outputs": [],
   "source": [
    "wheat_weights, barley_weights = Grain.combine()"
   ]
  },
  {
   "cell_type": "markdown",
   "id": "2f79a56d-be8b-4247-99ab-3ad4147b616c",
   "metadata": {},
   "source": [
    "# Let's compare the two set of weighted chains to the truth which is normal with cov = diag(1/2 , 1/2)"
   ]
  },
  {
   "cell_type": "code",
   "execution_count": 28,
   "id": "cbc5d4e1-d04f-4b37-83d5-08d5d5690756",
   "metadata": {},
   "outputs": [],
   "source": [
    "truth_chains = np.random.multivariate_normal(mean, 0.5 * cov, num_samples) "
   ]
  },
  {
   "cell_type": "code",
   "execution_count": 29,
   "id": "d81e1964-f8e8-42f3-b391-59d13323a962",
   "metadata": {},
   "outputs": [
    {
     "name": "stdout",
     "output_type": "stream",
     "text": [
      "Removed no burn in\n",
      "Removed no burn in\n",
      "Removed no burn in\n"
     ]
    },
    {
     "data": {
      "image/png": "[encoded data removed]",
      "text/plain": [
       "<Figure size 400x400 with 3 Axes>"
      ]
     },
     "metadata": {},
     "output_type": "display_data"
    }
   ],
   "source": [
    "import getdist.plots as gdplt\n",
    "from getdist import MCSamples\n",
    "\n",
    "weighted_wheat =  MCSamples(samples=wheat_chain, weights=wheat_weights)\n",
    "weighted_barley =  MCSamples(samples=barley_chain, weights=barley_weights)\n",
    "truth = MCSamples(samples=truth_chains)\n",
    "\n",
    "g = gdplt.get_subplot_plotter()\n",
    "g.triangle_plot([weighted_wheat, weighted_barley, truth], filled=False, legend_labels=['Weighted Wheat', 'Weighted Barley', 'Truth'])\n",
    "plt.show()"
   ]
  },
  {
   "cell_type": "markdown",
   "id": "fecba766-25af-40cd-b724-97b0881776fa",
   "metadata": {},
   "source": [
    "# You can also save and reload the trained flows"
   ]
  },
  {
   "cell_type": "code",
   "execution_count": 30,
   "id": "9d7a7c6e-802c-49fb-b687-c9e2cf81b94a",
   "metadata": {},
   "outputs": [
    {
     "data": {
      "text/plain": [
       "0.0"
      ]
     },
     "execution_count": 30,
     "metadata": {},
     "output_type": "execute_result"
    }
   ],
   "source": [
    "Wheat.save_models()\n",
    "Barley.save_models()"
   ]
  },
  {
   "cell_type": "code",
   "execution_count": 31,
   "id": "643ac8ab-3d7d-4f3e-ba45-6859b7f5f6fa",
   "metadata": {},
   "outputs": [],
   "source": [
    "Wheat_2 = Harvest('output/Wheat', chain = wheat_chain, n_flows = 1) \n",
    "Barley_2 = Harvest('output/Barley', chain = barley_chain, n_flows = 2)"
   ]
  },
  {
   "cell_type": "code",
   "execution_count": 32,
   "id": "31a11994-f2b3-4d75-8c46-3dd5ed485a68",
   "metadata": {},
   "outputs": [
    {
     "data": {
      "text/plain": [
       "0.0"
      ]
     },
     "execution_count": 32,
     "metadata": {},
     "output_type": "execute_result"
    }
   ],
   "source": [
    "Wheat_2.load_models()\n",
    "Barley_2.load_models()"
   ]
  },
  {
   "cell_type": "code",
   "execution_count": 33,
   "id": "05f0223b-b4dd-475f-855f-3de14886f91b",
   "metadata": {},
   "outputs": [],
   "source": [
    "Grain_2 = Combine(Wheat_2, Barley_2)"
   ]
  },
  {
   "cell_type": "code",
   "execution_count": 34,
   "id": "7ca0d711-86d6-4750-92d2-b3cb1d135884",
   "metadata": {},
   "outputs": [],
   "source": [
    "wheat_weights_2, barley_weights_2 = Grain_2.combine()"
   ]
  },
  {
   "cell_type": "code",
   "execution_count": 35,
   "id": "40f66ce6-a573-430f-b613-573c383d6795",
   "metadata": {},
   "outputs": [
    {
     "name": "stdout",
     "output_type": "stream",
     "text": [
      "Removed no burn in\n",
      "Removed no burn in\n",
      "Removed no burn in\n"
     ]
    },
    {
     "data": {
      "image/png": "[encoded data removed]",
      "text/plain": [
       "<Figure size 400x400 with 3 Axes>"
      ]
     },
     "metadata": {},
     "output_type": "display_data"
    }
   ],
   "source": [
    "import getdist.plots as gdplt\n",
    "from getdist import MCSamples\n",
    "\n",
    "weighted_wheat_2 =  MCSamples(samples=wheat_chain, weights=wheat_weights_2)\n",
    "weighted_barley_2 =  MCSamples(samples=barley_chain, weights=barley_weights_2)\n",
    "truth = MCSamples(samples=truth_chains)\n",
    "\n",
    "g = gdplt.get_subplot_plotter()\n",
    "g.triangle_plot([weighted_wheat_2, weighted_barley_2, truth], filled=False, legend_labels=['Weighted Wheat', 'Weighted Barley', 'Truth'])\n",
    "plt.show()"
   ]
  },
  {
   "cell_type": "code",
   "execution_count": null,
   "id": "24e6267f-42a7-4134-854f-3eb8df1f4cc3",
   "metadata": {},
   "outputs": [],
   "source": []
  },
  {
   "cell_type": "code",
   "execution_count": 36,
   "id": "36325975-66ab-47e1-82d7-87c2a1548214",
   "metadata": {},
   "outputs": [],
   "source": []
  },
  {
   "cell_type": "code",
   "execution_count": null,
   "id": "ab095198-9546-4f77-91a8-3de125299026",
   "metadata": {},
   "outputs": [],
   "source": []
  },
  {
   "cell_type": "code",
   "execution_count": null,
   "id": "4f56f6f6-3642-47b5-9c7a-bb3e33942d21",
   "metadata": {},
   "outputs": [],
   "source": []
  },
  {
   "cell_type": "code",
   "execution_count": null,
   "id": "8621b166-787e-4931-8668-b6e1d060de48",
   "metadata": {},
   "outputs": [],
   "source": []
  },
  {
   "cell_type": "code",
   "execution_count": null,
   "id": "b722f71a-2c9a-443c-8d69-a39306436e76",
   "metadata": {},
   "outputs": [],
   "source": []
  },
  {
   "cell_type": "code",
   "execution_count": null,
   "id": "6dc48994-4a7b-4185-9d7f-d758ed4eb13e",
   "metadata": {},
   "outputs": [],
   "source": []
  }
 ],
 "metadata": {
  "kernelspec": {
   "display_name": "Python 3 (ipykernel)",
   "language": "python",
   "name": "python3"
  },
  "language_info": {
   "codemirror_mode": {
    "name": "ipython",
    "version": 3
   },
   "file_extension": ".py",
   "mimetype": "text/x-python",
   "name": "python",
   "nbconvert_exporter": "python",
   "pygments_lexer": "ipython3",
   "version": "3.12.3"
  }
 },
 "nbformat": 4,
 "nbformat_minor": 5
}
